{
  "nbformat": 4,
  "nbformat_minor": 0,
  "metadata": {
    "colab": {
      "provenance": [],
      "collapsed_sections": [
        "P64OW9P2b2Rc",
        "R5dO7ssNcAyv",
        "seK_RAA1dgqQ",
        "-eehLsi-dtQY",
        "Fj91z_pEd4KV",
        "3JINsLvQ4-QH"
      ],
      "include_colab_link": true
    },
    "kernelspec": {
      "name": "python3",
      "display_name": "Python 3"
    },
    "language_info": {
      "name": "python"
    }
  },
  "cells": [
    {
      "cell_type": "markdown",
      "metadata": {
        "id": "view-in-github",
        "colab_type": "text"
      },
      "source": [
        "<a href=\"https://colab.research.google.com/github/antonionetocar/aulagithub/blob/main/Minicurso_GEOBIA.ipynb\" target=\"_parent\"><img src=\"https://colab.research.google.com/assets/colab-badge.svg\" alt=\"Open In Colab\"/></a>"
      ]
    },
    {
      "cell_type": "markdown",
      "source": [
        "![WhatsApp Image 2022-11-12 at 14.15.01.jpeg](data:image/jpeg;base64,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)"
      ],
      "metadata": {
        "id": "D0WHDj8lnbU2"
      }
    },
    {
      "cell_type": "code",
      "source": [
        "from google.colab import drive\n",
        "drive.mount('/content/drive')"
      ],
      "metadata": {
        "id": "ZF9FdZy_FWTe"
      },
      "execution_count": null,
      "outputs": []
    },
    {
      "cell_type": "markdown",
      "source": [
        "# Instalando bibliotecas necessárias"
      ],
      "metadata": {
        "id": "nDsfY4S9ZxPg"
      }
    },
    {
      "cell_type": "code",
      "source": [
        "!pip install -q geopandas\n",
        "!pip install -q rasterio"
      ],
      "metadata": {
        "colab": {
          "base_uri": "https://localhost:8080/"
        },
        "id": "5T0ExLkhZ2jF",
        "outputId": "c0e4e94d-f980-4b4d-9c49-b142b45bca43"
      },
      "execution_count": null,
      "outputs": [
        {
          "output_type": "stream",
          "name": "stdout",
          "text": [
            "\u001b[K     |████████████████████████████████| 1.0 MB 9.1 MB/s \n",
            "\u001b[K     |████████████████████████████████| 16.7 MB 54.6 MB/s \n",
            "\u001b[K     |████████████████████████████████| 6.3 MB 62.6 MB/s \n",
            "\u001b[K     |████████████████████████████████| 19.3 MB 1.2 MB/s \n",
            "\u001b[?25h"
          ]
        }
      ]
    },
    {
      "cell_type": "code",
      "source": [
        "# Execute essa célula para evitar erro na geopandas\n",
        "# Pode ser necessário reiniciar o ambiente após instalação\n",
        "!pip uninstall rtree\n",
        "!sudo apt install libspatialindex-dev\n",
        "!pip install rtree"
      ],
      "metadata": {
        "id": "VsmOcRxAZ4Wb"
      },
      "execution_count": null,
      "outputs": []
    },
    {
      "cell_type": "markdown",
      "source": [
        "# Importando bibliotecas e lendo arquivos"
      ],
      "metadata": {
        "id": "Zx0DdhSlbKOX"
      }
    },
    {
      "cell_type": "code",
      "source": [
        "# Importando bibliotecas\n",
        "import numpy as np\n",
        "from osgeo import gdal, ogr\n",
        "from skimage import exposure\n",
        "from skimage.segmentation import felzenszwalb, slic, quickshift, mark_boundaries\n",
        "import rasterio as rio\n",
        "import geopandas as gpd\n",
        "import pandas as pd\n",
        "import matplotlib.pyplot as plt\n",
        "from matplotlib import colors\n",
        "from sklearn.ensemble import RandomForestClassifier\n",
        "import tifffile as tif\n",
        "from sklearn.metrics import accuracy_score, classification_report, confusion_matrix"
      ],
      "metadata": {
        "id": "vDjJb-7QbRz0"
      },
      "execution_count": null,
      "outputs": []
    },
    {
      "cell_type": "code",
      "source": [
        "# Lendo imagem como array\n",
        "src = rio.open('/content/drive/MyDrive/Dados_PDI/CUBO_GEOBIA.tif')\n",
        "\n",
        "list_band = [src.read(i+1) for i in range(src.count)]\n",
        "\n",
        "img = np.dstack(list_band)"
      ],
      "metadata": {
        "id": "S7pCwGAGbTVQ"
      },
      "execution_count": null,
      "outputs": []
    },
    {
      "cell_type": "code",
      "source": [
        "# Armazenando metadados\n",
        "meta = src.profile"
      ],
      "metadata": {
        "id": "4gc0xMLbbWQw"
      },
      "execution_count": null,
      "outputs": []
    },
    {
      "cell_type": "markdown",
      "source": [
        "# Segmentando imagem"
      ],
      "metadata": {
        "id": "cbTDNs-8baIO"
      }
    },
    {
      "cell_type": "code",
      "source": [
        "# Reamostrando para valores de -1 a 1\n",
        "img2 = exposure.rescale_intensity(img)"
      ],
      "metadata": {
        "id": "sSat3_LcbfCL"
      },
      "execution_count": null,
      "outputs": []
    },
    {
      "cell_type": "code",
      "source": [
        "#segments = quickshift(img2[:,:,12:15].astype('double'), kernel_size=5, max_dist=1000, ratio=0.1)\n",
        "#segments = slic(img2, n_segments=10000, compactness=0.1, sigma=0, start_label=1)"
      ],
      "metadata": {
        "id": "LKKrAKrPbgWZ"
      },
      "execution_count": null,
      "outputs": []
    },
    {
      "cell_type": "code",
      "source": [
        "# Criando segmentos\n",
        "segments = felzenszwalb(img2, scale=1, sigma=1, min_size=70)"
      ],
      "metadata": {
        "id": "8S19g2PMblAE"
      },
      "execution_count": null,
      "outputs": []
    },
    {
      "cell_type": "code",
      "source": [
        "# Gravando segmentos em disco\n",
        "meta.update({'count': 1})\n",
        "with rio.open('segments.tif', 'w', **meta) as src:\n",
        "    src.write(segments,1)"
      ],
      "metadata": {
        "id": "fBNl_ATCbmAx"
      },
      "execution_count": null,
      "outputs": []
    },
    {
      "cell_type": "code",
      "source": [
        "#Função de expansão\n",
        "def expansao(img, percent_ini=2, percent_fim=98):\n",
        "    s = np.zeros_like(img)\n",
        "    x,y = 0,1  \n",
        "    w = np.percentile(img, percent_ini)\n",
        "    z = np.percentile(img, percent_fim)        \n",
        "    p = x + (img - w) * (y - x) / (z - w)    \n",
        "    p[p<x] = x\n",
        "    p[p>y] = y\n",
        "    s = p\n",
        "    return s"
      ],
      "metadata": {
        "id": "oEctCCAyboQ9"
      },
      "execution_count": null,
      "outputs": []
    },
    {
      "cell_type": "code",
      "source": [
        "# Visualizando segmentos\n",
        "plt.figure(figsize=(15,10))\n",
        "plt.imshow(mark_boundaries(expansao(img[:,:,7]), segments))"
      ],
      "metadata": {
        "id": "fUccllvobp4E"
      },
      "execution_count": null,
      "outputs": []
    },
    {
      "cell_type": "code",
      "source": [
        "# Função para poligonizar raster\n",
        "def polygonize(raster_file):\n",
        "  img = gdal.Open(raster_file)\n",
        "  dn = img.GetRasterBand(1)\n",
        "  shp_driver = ogr.GetDriverByName(\"ESRI Shapefile\")\n",
        "\n",
        "  shape_out = shp_driver.CreateDataSource('segs.shp')\n",
        "  srs = ogr.osr.SpatialReference()\n",
        "  srs.ImportFromEPSG(32723)\n",
        "  novo_shape = shape_out.CreateLayer('segs.shp', srs = srs)\n",
        "  gdal.Polygonize(dn, None, novo_shape, -1, [], callback=None)\n",
        "  shape_out.Destroy()\n",
        "  return print('Polígonos criados!')"
      ],
      "metadata": {
        "id": "IrJs804tbss-"
      },
      "execution_count": null,
      "outputs": []
    },
    {
      "cell_type": "code",
      "source": [
        "polygonize('/content/segments.tif')"
      ],
      "metadata": {
        "id": "gF4v3m2-bt1T"
      },
      "execution_count": null,
      "outputs": []
    },
    {
      "cell_type": "markdown",
      "source": [
        "# Criando regiões de interesse"
      ],
      "metadata": {
        "id": "P64OW9P2b2Rc"
      }
    },
    {
      "cell_type": "code",
      "source": [
        "# Função para criação de ROI\n",
        "def roi_create(pol_file, pts_file):\n",
        "  pol = gpd.read_file(pol_file)\n",
        "  pts = gpd.read_file(pts_file)\n",
        "  join_df = pts.sjoin(pol, how=\"right\")\n",
        "  res = join_df.query(\"amostras >= 1\")\n",
        "  res.to_file('roi_f.shp')\n",
        "  print('ROI criada!')\n",
        "  return res"
      ],
      "metadata": {
        "id": "jiMrotskb6m3"
      },
      "execution_count": null,
      "outputs": []
    },
    {
      "cell_type": "code",
      "source": [
        "roi_f = roi_create('/content/segs.shp', '/content/drive/MyDrive/Dados_PDI/roi_seg.shp')"
      ],
      "metadata": {
        "id": "qRgi-e6-b8Ky"
      },
      "execution_count": null,
      "outputs": []
    },
    {
      "cell_type": "code",
      "source": [
        "# Visualizando ROI\n",
        "roi_f.plot(column='amostras', figsize=(12,8))"
      ],
      "metadata": {
        "id": "jwF6SLwlb9ev"
      },
      "execution_count": null,
      "outputs": []
    },
    {
      "cell_type": "markdown",
      "source": [
        "# Extraindo atributos"
      ],
      "metadata": {
        "id": "R5dO7ssNcAyv"
      }
    },
    {
      "cell_type": "code",
      "source": [
        "# Função para extração de estatísticas\n",
        "def describe(arr):\n",
        "  mean = np.mean(arr)\n",
        "  median = np.median(arr)\n",
        "  min = np.min(arr)\n",
        "  max = np.max(arr)\n",
        "  range = np.ptp(arr)\n",
        "  var = np.var(arr)\n",
        "  sd = np.std(arr)\n",
        "  return [mean, median, sd, min,max,var,range]\n"
      ],
      "metadata": {
        "id": "SNif3RKlcE3z"
      },
      "execution_count": null,
      "outputs": []
    },
    {
      "cell_type": "code",
      "source": [
        "# Função para cálculo de estatísticas por segmentos\n",
        "def features(pixels_seg):\n",
        "    feat = []\n",
        "    pixels, bandas = pixels_seg.shape\n",
        "    for i in range(bandas):\n",
        "        stats = describe(pixels_seg[:, i])\n",
        "        stat_bandas = list(stats) \n",
        "        \n",
        "        feat += stat_bandas\n",
        "    return feat"
      ],
      "metadata": {
        "id": "VrNGlVnucGPI"
      },
      "execution_count": null,
      "outputs": []
    },
    {
      "cell_type": "code",
      "source": [
        "# Função para criar objetos com identificadores\n",
        "def get_ids(seg):\n",
        "  segment_ids = np.unique(segments)\n",
        "  obj = []\n",
        "  obj_id = []\n",
        "  for id in segment_ids:\n",
        "      segment_pixels = img[segments == id]\n",
        "      object_features = features(segment_pixels)\n",
        "      obj.append(object_features)\n",
        "      obj_id.append(id)\n",
        "  return obj, obj_id,segment_ids"
      ],
      "metadata": {
        "id": "2PjPxhF_cHrE"
      },
      "execution_count": null,
      "outputs": []
    },
    {
      "cell_type": "code",
      "source": [
        "obj, obj_id,segment_ids = get_ids(segments)"
      ],
      "metadata": {
        "id": "79cFL8h0cJLf"
      },
      "execution_count": null,
      "outputs": []
    },
    {
      "cell_type": "markdown",
      "source": [
        "# Criando conjunto de treino e teste"
      ],
      "metadata": {
        "id": "seK_RAA1dgqQ"
      }
    },
    {
      "cell_type": "code",
      "source": [
        "# Função para criação de conjuntos de treino e teste\n",
        "def train_test_set(file):\n",
        "\n",
        "  gdf = gpd.read_file(file)\n",
        "\n",
        "  classes = gdf['amostras'].unique()\n",
        "\n",
        "  classes_ids = np.arange(classes.size) + 1\n",
        "\n",
        "  gdf['amostras'] = gdf['amostras'].map(dict(zip(classes, classes_ids)))\n",
        "\n",
        "  gdf_train = gdf.sample(frac=0.7,random_state=377)\n",
        "  gdf_test = gdf.drop(gdf_train.index)\n",
        "  gdf_train.to_file('train.shp')\n",
        "  gdf_test.to_file('test.shp')"
      ],
      "metadata": {
        "id": "JaxlUKA4djXT"
      },
      "execution_count": null,
      "outputs": []
    },
    {
      "cell_type": "code",
      "source": [
        "train_test_set('/content/roi_f.shp')"
      ],
      "metadata": {
        "id": "kvPfKIOAdkwJ"
      },
      "execution_count": null,
      "outputs": []
    },
    {
      "cell_type": "code",
      "source": [
        "# Função para rasterizar polígonos\n",
        "def rasterize(raster, shp):\n",
        "\n",
        "  raster_input = gdal.Open(raster)\n",
        "\n",
        "  vec_shp = ogr.Open(shp)\n",
        "  layer = vec_shp.GetLayer()\n",
        "\n",
        "  driver = gdal.GetDriverByName('MEM')\n",
        "  rasterized = driver.Create('', raster_input.RasterXSize, raster_input.RasterYSize, 1, gdal.GDT_UInt16)\n",
        "  rasterized.SetGeoTransform(raster_input.GetGeoTransform())\n",
        "  rasterized.SetProjection(raster_input.GetProjection())\n",
        "\n",
        "  gdal.RasterizeLayer(rasterized, [1], layer, options=['ATTRIBUTE=amostras'])\n",
        "  result = rasterized.GetRasterBand(1).ReadAsArray()\n",
        "  return result"
      ],
      "metadata": {
        "id": "_p5tq3ZQdoi1"
      },
      "execution_count": null,
      "outputs": []
    },
    {
      "cell_type": "code",
      "source": [
        "roi = rasterize('/content/drive/MyDrive/Dados_PDI/CUBO_GEOBIA.tif', 'train.shp')"
      ],
      "metadata": {
        "id": "h3C60I-9dpNo"
      },
      "execution_count": null,
      "outputs": []
    },
    {
      "cell_type": "markdown",
      "source": [
        "# Rodando classificação"
      ],
      "metadata": {
        "id": "-eehLsi-dtQY"
      }
    },
    {
      "cell_type": "code",
      "source": [
        "# Criaçao de X e y para o Random Forests\n",
        "classes = np.unique(roi)[1:]\n",
        "\n",
        "segs_class = {}\n",
        "\n",
        "for i in classes:\n",
        "  class_segments = segments[roi == i]\n",
        "  segs_class[i] = list(class_segments)\n",
        "\n",
        "train_img = np.copy(segments)\n",
        "\n",
        "train_obj = []\n",
        "train_rot = []\n",
        "\n",
        "for k in classes:\n",
        "  atri_train_obj = []\n",
        "  for i, j in enumerate(obj):\n",
        "    if segment_ids[i] in segs_class[k]:\n",
        "      atri_train_obj.append(j)\n",
        "  train_rot += [k] * len(atri_train_obj)\n",
        "  train_obj += atri_train_obj"
      ],
      "metadata": {
        "id": "Ex61HSUydwDG"
      },
      "execution_count": null,
      "outputs": []
    },
    {
      "cell_type": "code",
      "source": [
        "# Classificando objetos\n",
        "rf = RandomForestClassifier(n_estimators= 500, max_depth=1000, n_jobs=-1)\n",
        "rf.fit(train_obj, train_rot)\n",
        "\n",
        "pred = rf.predict(obj)\n",
        "\n",
        "\n",
        "classified = np.copy(segments)\n",
        "for i, j in zip(segment_ids, pred):\n",
        "    classified[classified == i] = j\n",
        "\n",
        "# Gravando em disco\n",
        "with rio.open('classified.tif', 'w', **meta) as src:\n",
        "    src.write(classified,1)"
      ],
      "metadata": {
        "id": "CJeZm7u_dyNY"
      },
      "execution_count": null,
      "outputs": []
    },
    {
      "cell_type": "code",
      "source": [
        "# Criação de rampa de cores\n",
        "cmap = colors.ListedColormap(['#3380d8', '#015721','#fcf7f0','#f58500','#1df209','#ff0101'])"
      ],
      "metadata": {
        "id": "6LI3zOBZdzlA"
      },
      "execution_count": null,
      "outputs": []
    },
    {
      "cell_type": "code",
      "source": [
        "# Visualizando resultado\n",
        "classs = tif.imread('classified.tif')\n",
        "plt.figure(figsize=(15,10))\n",
        "plt.imshow(classs, cmap=cmap)"
      ],
      "metadata": {
        "id": "5n-MoZTld1Lt"
      },
      "execution_count": null,
      "outputs": []
    },
    {
      "cell_type": "markdown",
      "source": [
        "# Avaliação de acurácia"
      ],
      "metadata": {
        "id": "Fj91z_pEd4KV"
      }
    },
    {
      "cell_type": "code",
      "source": [
        "test = rasterize('/content/drive/MyDrive/Dados_PDI/CUBO_GEOBIA.tif', 'test.shp')"
      ],
      "metadata": {
        "id": "dsR1sCxod6-h"
      },
      "execution_count": null,
      "outputs": []
    },
    {
      "cell_type": "code",
      "source": [
        "# Classification report\n",
        "index = np.nonzero(test)\n",
        "\n",
        "print(classification_report(test[index], classified[index]))"
      ],
      "metadata": {
        "id": "EjYHIFh4d_K6"
      },
      "execution_count": null,
      "outputs": []
    },
    {
      "cell_type": "code",
      "source": [
        "# Matriz de confusão\n",
        "confusion_matrix(test[index], classified[index])"
      ],
      "metadata": {
        "id": "9_pTbD5VeAYv"
      },
      "execution_count": null,
      "outputs": []
    },
    {
      "cell_type": "markdown",
      "source": [
        "# Off-topic"
      ],
      "metadata": {
        "id": "3JINsLvQ4-QH"
      }
    },
    {
      "cell_type": "code",
      "source": [
        "!pip install -q qrcode"
      ],
      "metadata": {
        "id": "7V4ljgQ95CHy"
      },
      "execution_count": null,
      "outputs": []
    },
    {
      "cell_type": "code",
      "source": [
        "import qrcode\n",
        "qrcode.make('https://www.geosensor.com.br/pdi')"
      ],
      "metadata": {
        "id": "IZvm_Gfk5EpZ"
      },
      "execution_count": null,
      "outputs": []
    }
  ]
}